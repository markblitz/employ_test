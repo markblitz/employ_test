{
 "cells": [
  {
   "cell_type": "code",
   "execution_count": 1,
   "id": "85b2cfa2-4963-4ccc-a1c7-55249a0decac",
   "metadata": {},
   "outputs": [],
   "source": [
    "import sqlite3"
   ]
  },
  {
   "cell_type": "code",
   "execution_count": 24,
   "id": "3bd90512-85a4-453e-b5be-a8ad8111174e",
   "metadata": {},
   "outputs": [],
   "source": [
    "class Job_Seeker_System:\n",
    "    def __init__(self, DB_name = 'test.db', table_name = 'seeker_info'):\n",
    "        self.DB_name = DB_name\n",
    "        self.table_name = table_name\n",
    "    \n",
    "    def insert_seeker(self, seeker_name, \n",
    "                            seeker_date_of_birth, \n",
    "                            seeker_phone_number, \n",
    "                            seeker_email_address, \n",
    "                            seeker_address):\n",
    "        insert_data = [(seeker_name, seeker_date_of_birth, seeker_phone_number,\n",
    "                        seeker_email_address, seeker_address)]\n",
    "        conn = sqlite3.connect(self.DB_name)\n",
    "        cursor = conn.cursor()\n",
    "        cursor.executemany('''INSERT INTO ''' + self.table_name + ''' VALUES (?,?,?,?,?)''', insert_data)\n",
    "        conn.commit()\n",
    "        cursor.close()\n",
    "        conn.close()"
   ]
  },
  {
   "cell_type": "code",
   "execution_count": 25,
   "id": "e16befcf-a713-4f02-89fb-d3c3b9ece018",
   "metadata": {},
   "outputs": [],
   "source": [
    "if __name__ == \"__main__\":\n",
    "    system = Job_Seeker_System()\n",
    "    system.insert_seeker('ABC', '2020-1-1', '1234567890', 'abc@abc.abc', '123 ABC street')"
   ]
  },
  {
   "cell_type": "code",
   "execution_count": null,
   "id": "7d3504a5-e6a4-4806-92c7-47ee1907ea1f",
   "metadata": {},
   "outputs": [],
   "source": []
  }
 ],
 "metadata": {
  "kernelspec": {
   "display_name": "Python 3",
   "language": "python",
   "name": "python3"
  },
  "language_info": {
   "codemirror_mode": {
    "name": "ipython",
    "version": 3
   },
   "file_extension": ".py",
   "mimetype": "text/x-python",
   "name": "python",
   "nbconvert_exporter": "python",
   "pygments_lexer": "ipython3",
   "version": "3.8.8"
  }
 },
 "nbformat": 4,
 "nbformat_minor": 5
}
