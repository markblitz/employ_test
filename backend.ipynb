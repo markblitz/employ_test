{
 "cells": [
  {
   "cell_type": "code",
   "execution_count": 1,
   "id": "3d3cce61-b790-4f33-881c-11eaf3d4f2b0",
   "metadata": {},
   "outputs": [
    {
     "name": "stdout",
     "output_type": "stream",
     "text": [
      "importing Jupyter notebook from job_seeker.ipynb\n"
     ]
    }
   ],
   "source": [
    "import import_ipynb\n",
    "from flask import Flask, request, jsonify\n",
    "from flask_cors import CORS\n",
    "# file import\n",
    "import job_seeker"
   ]
  },
  {
   "cell_type": "code",
   "execution_count": 2,
   "id": "fdd5980c-ff9b-437f-b085-3b5ba9a25d80",
   "metadata": {},
   "outputs": [
    {
     "data": {
      "text/plain": [
       "<flask_cors.extension.CORS at 0x189685c51f0>"
      ]
     },
     "execution_count": 2,
     "metadata": {},
     "output_type": "execute_result"
    }
   ],
   "source": [
    "app = Flask(__name__)\n",
    "CORS(app, resources=r'/*')"
   ]
  },
  {
   "cell_type": "code",
   "execution_count": 3,
   "id": "6dd28e33-e07d-4f7f-aea6-3b24449d542f",
   "metadata": {},
   "outputs": [],
   "source": [
    "@app.route('/index/add_info', methods = ['POST'])\n",
    "def add_info():\n",
    "    if request.method == 'POST':\n",
    "        seeker_name = str(request.form.get(\"seeker_name\"))    \n",
    "        seeker_date_of_birth = str(request.form.get(\"seeker_date_of_birth\"))\n",
    "        seeker_phone_number = str(request.form.get(\"seeker_phone_number\"))\n",
    "        seeker_email_address = str(request.form.get(\"seeker_email_address\"))\n",
    "        seeker_address = str(request.form.get(\"seeker_address\"))\n",
    "        system = job_seeker.Job_Seeker_System()\n",
    "        system.insert_seeker(seeker_name, seeker_date_of_birth, seeker_phone_number, seeker_email_address, seeker_address)\n",
    "        print(seeker_name, ' cool!')\n",
    "        return 'new info added'"
   ]
  },
  {
   "cell_type": "code",
   "execution_count": null,
   "id": "bfa2d2ad-e511-45d6-b75b-4ffdcf58977f",
   "metadata": {},
   "outputs": [
    {
     "name": "stdout",
     "output_type": "stream",
     "text": [
      " * Serving Flask app \"__main__\" (lazy loading)\n",
      " * Environment: production\n",
      "   WARNING: This is a development server. Do not use it in a production deployment.\n",
      "   Use a production WSGI server instead.\n",
      " * Debug mode: off\n"
     ]
    },
    {
     "name": "stderr",
     "output_type": "stream",
     "text": [
      " * Running on http://0.0.0.0:8899/ (Press CTRL+C to quit)\n",
      "127.0.0.1 - - [04/Nov/2021 19:04:32] \"\u001b[37mPOST /index/add_info HTTP/1.1\u001b[0m\" 200 -\n"
     ]
    },
    {
     "name": "stdout",
     "output_type": "stream",
     "text": [
      "test_name  cool!\n"
     ]
    }
   ],
   "source": [
    "if __name__ == \"__main__\":\n",
    "    app.run(host='0.0.0.0', port=8899)"
   ]
  },
  {
   "cell_type": "code",
   "execution_count": null,
   "id": "a717ac33-521b-4c78-9968-0059ac5de241",
   "metadata": {},
   "outputs": [],
   "source": []
  }
 ],
 "metadata": {
  "kernelspec": {
   "display_name": "Python 3",
   "language": "python",
   "name": "python3"
  },
  "language_info": {
   "codemirror_mode": {
    "name": "ipython",
    "version": 3
   },
   "file_extension": ".py",
   "mimetype": "text/x-python",
   "name": "python",
   "nbconvert_exporter": "python",
   "pygments_lexer": "ipython3",
   "version": "3.8.8"
  }
 },
 "nbformat": 4,
 "nbformat_minor": 5
}
