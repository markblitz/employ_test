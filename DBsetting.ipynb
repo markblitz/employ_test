{
 "cells": [
  {
   "cell_type": "code",
   "execution_count": 20,
   "id": "1e03a0aa-2761-4fd7-9cb6-c0bbdb26d060",
   "metadata": {},
   "outputs": [],
   "source": [
    "import sqlite3"
   ]
  },
  {
   "cell_type": "code",
   "execution_count": 25,
   "id": "c343555d-1dc1-4fef-8d77-99e4fea568cb",
   "metadata": {},
   "outputs": [],
   "source": [
    "conn = sqlite3.connect('test.db')\n",
    "cursor = conn.cursor()"
   ]
  },
  {
   "cell_type": "code",
   "execution_count": 27,
   "id": "fee6e2b3-be8f-405d-8f96-1151420d26ea",
   "metadata": {},
   "outputs": [
    {
     "data": {
      "text/plain": [
       "<sqlite3.Cursor at 0x1e0376869d0>"
      ]
     },
     "execution_count": 27,
     "metadata": {},
     "output_type": "execute_result"
    }
   ],
   "source": [
    "# create table for main information\n",
    "sql_text_1 = '''CREATE TABLE seeker_info (\n",
    "                NAME           TEXT    NOT NULL, \n",
    "                DATE_OF_BIRTH  DATE    NOT NULL, \n",
    "                PHONE_NUMBER   NUMBER  NOT NULL,\n",
    "                EMAIL_ADDRESS  VARCHAR(255)    NOT NULL, \n",
    "                ADDRESS        TEXT    NOT NULL\n",
    "                );'''\n",
    "cursor.execute(sql_text_1) "
   ]
  },
  {
   "cell_type": "code",
   "execution_count": 26,
   "id": "a9bb8575-dfcc-4998-b81b-4974d7b80ea4",
   "metadata": {},
   "outputs": [],
   "source": [
    "# delete table for editing\n",
    "sql_text_2 = '''DROP TABLE seeker_info;'''\n",
    "cursor.execute(sql_text_2) "
   ]
  },
  {
   "cell_type": "code",
   "execution_count": 34,
   "id": "16604b8b-9197-41c8-aff9-a39e69302383",
   "metadata": {},
   "outputs": [],
   "source": [
    "data = [('ABC', '2020-1-1', 1234567890, 'abc@abc.abc', '123 ABC street')]\n",
    "cursor.executemany('INSERT INTO seeker_info VALUES (?,?,?,?,?)', data)\n",
    "conn.commit()"
   ]
  },
  {
   "cell_type": "code",
   "execution_count": 24,
   "id": "2f94eaaa-cc13-4a5b-821f-a1879d22faf5",
   "metadata": {},
   "outputs": [],
   "source": [
    "# close DB\n",
    "cursor.close()\n",
    "conn.close()"
   ]
  },
  {
   "cell_type": "code",
   "execution_count": null,
   "id": "6b2679ad-8f1c-4a84-86c2-0e24c9aac9ec",
   "metadata": {},
   "outputs": [],
   "source": []
  }
 ],
 "metadata": {
  "kernelspec": {
   "display_name": "Python 3",
   "language": "python",
   "name": "python3"
  },
  "language_info": {
   "codemirror_mode": {
    "name": "ipython",
    "version": 3
   },
   "file_extension": ".py",
   "mimetype": "text/x-python",
   "name": "python",
   "nbconvert_exporter": "python",
   "pygments_lexer": "ipython3",
   "version": "3.8.8"
  }
 },
 "nbformat": 4,
 "nbformat_minor": 5
}
